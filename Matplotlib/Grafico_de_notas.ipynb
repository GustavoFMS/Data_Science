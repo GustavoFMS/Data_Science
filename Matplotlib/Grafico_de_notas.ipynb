{
 "cells": [
  {
   "cell_type": "code",
   "execution_count": null,
   "metadata": {},
   "outputs": [],
   "source": [
    "from random import randrange, seed\n",
    "import matplotlib.pyplot as plt\n",
    "\n",
    "seed(11)\n",
    "randrange(0,11)\n",
    "\n",
    "notas_de_matematica = []\n",
    "for notas in range(8):\n",
    "    notas_de_matematica.append(randrange(0, 11))\n",
    "\n",
    "print(notas_de_matematica)\n",
    "\n",
    "x = list(range(1,9))\n",
    "y = notas_de_matematica\n",
    "\n",
    "plt.plot(x, y, marker = 'o')\n",
    "plt.title('Notas de Matemática')\n",
    "plt.xlabel('Provas')\n",
    "plt.ylabel('Notas')\n",
    "plt.show()"
   ]
  }
 ],
 "metadata": {
  "kernelspec": {
   "display_name": "Python 3",
   "language": "python",
   "name": "python3"
  },
  "language_info": {
   "name": "python",
   "version": "3.11.0 (main, Oct 24 2022, 18:26:48) [MSC v.1933 64 bit (AMD64)]"
  },
  "orig_nbformat": 4,
  "vscode": {
   "interpreter": {
    "hash": "dd9d8443ef245144cb8cd1a7b211a59c3f83d304b6be1dc08735d53dbe46a7e8"
   }
  }
 },
 "nbformat": 4,
 "nbformat_minor": 2
}
